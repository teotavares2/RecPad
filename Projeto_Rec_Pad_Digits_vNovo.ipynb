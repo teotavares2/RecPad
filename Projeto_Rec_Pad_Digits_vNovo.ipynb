{
  "nbformat": 4,
  "nbformat_minor": 0,
  "metadata": {
    "colab": {
      "name": "Projeto_Rec_Pad_Digits_vNovo.ipynb",
      "provenance": [],
      "collapsed_sections": [],
      "mount_file_id": "12CDNn7WiQ0NnePAi5KKNixSyRVMjRxew",
      "authorship_tag": "ABX9TyMTFXQO0YWuscrFSJBb3kwL",
      "include_colab_link": true
    },
    "kernelspec": {
      "display_name": "Python 3",
      "name": "python3"
    },
    "language_info": {
      "name": "python"
    }
  },
  "cells": [
    {
      "cell_type": "markdown",
      "metadata": {
        "id": "view-in-github",
        "colab_type": "text"
      },
      "source": [
        "<a href=\"https://colab.research.google.com/github/teotavares2/RecPad/blob/main/Projeto_Rec_Pad_Digits_vNovo.ipynb\" target=\"_parent\"><img src=\"https://colab.research.google.com/assets/colab-badge.svg\" alt=\"Open In Colab\"/></a>"
      ]
    },
    {
      "cell_type": "markdown",
      "metadata": {
        "id": "sPynu0H4tNwB"
      },
      "source": [
        "# Digits vFinal"
      ]
    },
    {
      "cell_type": "code",
      "metadata": {
        "colab": {
          "base_uri": "https://localhost:8080/"
        },
        "id": "6WTeyXVxtNwC",
        "outputId": "017c1757-4dcb-448d-ac0a-ce37719cfca9"
      },
      "source": [
        "from sklearn.datasets import load_digits\n",
        "from sklearn.model_selection import train_test_split\n",
        "import matplotlib.pyplot as plt\n",
        "from sklearn.decomposition import PCA\n",
        "from sklearn.linear_model import LogisticRegression\n",
        "from sklearn.naive_bayes import GaussianNB\n",
        "from sklearn.model_selection import train_test_split\n",
        "from sklearn.neighbors import KNeighborsClassifier\n",
        "from sklearn.tree import DecisionTreeClassifier\n",
        "from sklearn.preprocessing import StandardScaler, MinMaxScaler\n",
        "from sklearn.pipeline import make_pipeline\n",
        "from sklearn.ensemble import StackingClassifier\n",
        "from sklearn import model_selection\n",
        "from sklearn.model_selection import GridSearchCV\n",
        "from sklearn.neural_network import MLPClassifier\n",
        "from sklearn.ensemble import RandomForestClassifier, VotingClassifier\n",
        "from sklearn.svm import SVC, LinearSVC\n",
        "from sklearn.metrics import f1_score,recall_score, precision_score, confusion_matrix, roc_curve, classification_report, accuracy_score\n",
        "from time import time,sleep\n",
        "from sklearn.linear_model import SGDClassifier\n",
        "from sklearn.decomposition import PCA\n",
        "import pandas as pd\n",
        "import numpy as np\n",
        "import os\n",
        "%matplotlib inline\n",
        "import _pickle as cPickle\n",
        "from tqdm import tqdm\n",
        "\n",
        "from google.colab import drive\n",
        "drive.mount('/content/drive', force_remount=True)\n",
        "\n",
        "import sys\n",
        "\n",
        "if not sys.warnoptions:\n",
        "    import warnings\n",
        "    warnings.simplefilter(\"ignore\")"
      ],
      "execution_count": 66,
      "outputs": [
        {
          "output_type": "stream",
          "name": "stdout",
          "text": [
            "Mounted at /content/drive\n"
          ]
        }
      ]
    },
    {
      "cell_type": "code",
      "metadata": {
        "id": "4O26VOT4wRjt"
      },
      "source": [
        "# Classifiers\n",
        "\n",
        "classifiers =[]\n",
        "mlp = MLPClassifier(random_state=123, verbose=1, batch_size=64, max_iter=400,early_stopping = True)\n",
        "classifiers.append(mlp)\n",
        "\n",
        "knn = KNeighborsClassifier(n_jobs=-1, algorithm='auto')\n",
        "classifiers.append(knn)\n",
        "\n",
        "svm = SVC(probability=True)\n",
        "classifiers.append(svm)\n",
        "\n",
        "# Classifiers Parameters\n",
        "\n",
        "parameters=[]\n",
        "parameters_mlp = {'activation': ['identity','logistic','tanh','relu'], \n",
        "                  'solver':['lbfgs','sgd','adam'], \n",
        "                 'learning_rate':['constant','invscaling','adaptive'],}\n",
        "parameters.append(parameters_mlp)\n",
        "parameters_knn = {\"n_neighbors\": [1,2,3,4,5,6,7,8,9,10], \n",
        "                 \"weights\": ['uniform','distance'],\n",
        "                 \"p\":[1,2,3]}\n",
        "parameters.append(parameters_knn)\n",
        "parameters_svm = {\"kernel\": ['linear', 'poly', 'rbf', 'sigmoid'],\n",
        "                 'decision_function_shape':('ovo', 'ovr'),\n",
        "                 'C':[1,2,3,4,5,6,7,8,9,10] \n",
        "                 }\n",
        "parameters.append(parameters_svm)\n",
        "\n",
        "# Classifiers Names\n",
        "\n",
        "names = ['MLPClassifier',\n",
        "        'KNeighborsClassifier',\n",
        "        'SupportVectorClassifier',\n",
        "        ]"
      ],
      "execution_count": 19,
      "outputs": []
    },
    {
      "cell_type": "code",
      "metadata": {
        "id": "NJE3yvDmwuHW",
        "colab": {
          "base_uri": "https://localhost:8080/"
        },
        "outputId": "54762f2c-06f0-4e97-8cd7-31ca58f5c4d6"
      },
      "source": [
        "# Dataset Digits\n",
        "\n",
        "digits = load_digits()\n",
        "X_train, X_test, y_train, y_test = train_test_split(digits.data, digits.target, shuffle=True)\n",
        "\n",
        "scaler = MinMaxScaler()\n",
        "X_train = scaler.fit_transform(X_train)\n",
        "X_test = scaler.transform(X_test)\n",
        "\n",
        "# Best Classifiers with GridSearchCV\n",
        "\n",
        "path='/content/drive/MyDrive/RecPad/Models/'\n",
        "\n",
        "def gridSearchCV(models,params,count):\n",
        "    best_models=[]\n",
        "    for i in tqdm(range(0,count)):\n",
        "        model_grid = GridSearchCV(models[i], parameters[i], n_jobs=-1, verbose=1, cv=5)\n",
        "        model_grid.fit(X_train,y_train)\n",
        "        best_models.append(model_grid.best_estimator_)\n",
        "    return best_models\n",
        "\n",
        "best_model_list = gridSearchCV(classifiers,parameters,3)"
      ],
      "execution_count": 20,
      "outputs": [
        {
          "output_type": "stream",
          "name": "stderr",
          "text": [
            "\r  0%|          | 0/3 [00:00<?, ?it/s]"
          ]
        },
        {
          "output_type": "stream",
          "name": "stdout",
          "text": [
            "Fitting 5 folds for each of 36 candidates, totalling 180 fits\n"
          ]
        },
        {
          "output_type": "stream",
          "name": "stderr",
          "text": [
            "[Parallel(n_jobs=-1)]: Using backend LokyBackend with 2 concurrent workers.\n",
            "[Parallel(n_jobs=-1)]: Done  46 tasks      | elapsed:   12.4s\n",
            "[Parallel(n_jobs=-1)]: Done 180 out of 180 | elapsed:  1.1min finished\n",
            " 33%|███▎      | 1/3 [01:05<02:11, 65.78s/it][Parallel(n_jobs=-1)]: Using backend LokyBackend with 2 concurrent workers.\n"
          ]
        },
        {
          "output_type": "stream",
          "name": "stdout",
          "text": [
            "Fitting 5 folds for each of 60 candidates, totalling 300 fits\n"
          ]
        },
        {
          "output_type": "stream",
          "name": "stderr",
          "text": [
            "[Parallel(n_jobs=-1)]: Done  62 tasks      | elapsed:   15.3s\n",
            "[Parallel(n_jobs=-1)]: Done 212 tasks      | elapsed:   56.4s\n",
            "[Parallel(n_jobs=-1)]: Done 300 out of 300 | elapsed:  1.4min finished\n",
            " 67%|██████▋   | 2/3 [02:27<01:15, 75.09s/it][Parallel(n_jobs=-1)]: Using backend LokyBackend with 2 concurrent workers.\n"
          ]
        },
        {
          "output_type": "stream",
          "name": "stdout",
          "text": [
            "Fitting 5 folds for each of 80 candidates, totalling 400 fits\n"
          ]
        },
        {
          "output_type": "stream",
          "name": "stderr",
          "text": [
            "[Parallel(n_jobs=-1)]: Done  46 tasks      | elapsed:   10.2s\n",
            "[Parallel(n_jobs=-1)]: Done 196 tasks      | elapsed:   38.9s\n",
            "[Parallel(n_jobs=-1)]: Done 400 out of 400 | elapsed:  1.2min finished\n",
            "100%|██████████| 3/3 [03:42<00:00, 74.03s/it]\n"
          ]
        }
      ]
    },
    {
      "cell_type": "code",
      "metadata": {
        "id": "Vw1NkFIHVxzN",
        "colab": {
          "base_uri": "https://localhost:8080/"
        },
        "outputId": "4022e8f9-e716-412e-9941-4fc12e0fd096"
      },
      "source": [
        "# Best Estimators log and print\n",
        "log_file = open('/content/drive/MyDrive/RecPad/Logs/digits_best_estimators.log','a')\n",
        "log_file.write(\"\\nThe best estimators are:\\n\")\n",
        "for i in range(len(classifiers)):\n",
        "  log_file.write(\"\\n\")\n",
        "  log_file.write(str(best_model_list[i]))\n",
        "log_file.close() \n",
        "\n",
        "print(best_model_list)"
      ],
      "execution_count": 33,
      "outputs": [
        {
          "output_type": "stream",
          "name": "stdout",
          "text": [
            "[MLPClassifier(activation='tanh', alpha=0.0001, batch_size=64, beta_1=0.9,\n",
            "              beta_2=0.999, early_stopping=True, epsilon=1e-08,\n",
            "              hidden_layer_sizes=(100,), learning_rate='constant',\n",
            "              learning_rate_init=0.001, max_fun=15000, max_iter=400,\n",
            "              momentum=0.9, n_iter_no_change=10, nesterovs_momentum=True,\n",
            "              power_t=0.5, random_state=123, shuffle=True, solver='lbfgs',\n",
            "              tol=0.0001, validation_fraction=0.1, verbose=1, warm_start=False), KNeighborsClassifier(algorithm='auto', leaf_size=30, metric='minkowski',\n",
            "                     metric_params=None, n_jobs=-1, n_neighbors=1, p=2,\n",
            "                     weights='uniform'), SVC(C=2, break_ties=False, cache_size=200, class_weight=None, coef0=0.0,\n",
            "    decision_function_shape='ovo', degree=3, gamma='scale', kernel='rbf',\n",
            "    max_iter=-1, probability=True, random_state=None, shrinking=True, tol=0.001,\n",
            "    verbose=False)]\n"
          ]
        }
      ]
    },
    {
      "cell_type": "code",
      "metadata": {
        "id": "1EABHoagUle6"
      },
      "source": [
        "# Gerando o cabeçalho\n",
        "log_accuracy = open('/content/drive/MyDrive/RecPad/Logs/accuracy.csv','a')\n",
        "log_time = open('/content/drive/MyDrive/RecPad/Logs/time.csv','a')\n",
        "\n",
        "\n",
        "# Unique estimators\n",
        "for x in range(len(best_model_list)):\n",
        "  log_accuracy.write(str(names[x])+',')\n",
        "  log_time.write(str(names[x])+',')\n",
        "\n",
        "\n",
        "# Votting Hard\n",
        "log_accuracy.write('VottingHard,')\n",
        "log_time.write('VottingHard,')\n",
        "\n",
        "# Votting Soft\n",
        "log_accuracy.write('VottingSoft,')\n",
        "log_time.write('VottingSoft,')\n",
        "\n",
        "# Stacking\n",
        "for x in range(len(best_model_list)):\n",
        "  for y in range(len(best_model_list)):\n",
        "    if x!=y:\n",
        "      log_accuracy.write('{}{},'.format(names[x],names[y]))\n",
        "      log_time.write('{}{},'.format(names[x],names[y]))\n",
        "\n",
        "log_accuracy.write('\\n')\n",
        "log_time.write('\\n')\n",
        "\n",
        "log_accuracy.close()\n",
        "log_time.close() "
      ],
      "execution_count": 34,
      "outputs": []
    },
    {
      "cell_type": "code",
      "metadata": {
        "id": "nrjK6t5fcWGz"
      },
      "source": [
        "# Melhores estimadores\n",
        "\n",
        "#MLPClassifier\n",
        "best_model_list[0] = MLPClassifier(activation='tanh', \n",
        "                                   alpha=0.0001, \n",
        "                                   batch_size=64, \n",
        "                                   beta_1=0.9,\n",
        "                                   beta_2=0.999, \n",
        "                                   early_stopping=True, \n",
        "                                   epsilon=1e-08,\n",
        "                                   hidden_layer_sizes=(100,), \n",
        "                                   learning_rate='constant',\n",
        "                                   learning_rate_init=0.001, \n",
        "                                   max_fun=15000, \n",
        "                                   max_iter=400,\n",
        "                                   momentum=0.9, \n",
        "                                   n_iter_no_change=10, \n",
        "                                   nesterovs_momentum=True,\n",
        "                                   power_t=0.5, \n",
        "                                   random_state=123, \n",
        "                                   shuffle=True, \n",
        "                                   solver='lbfgs',\n",
        "                                   tol=0.0001, \n",
        "                                   validation_fraction=0.1, \n",
        "                                   verbose=1, \n",
        "                                   warm_start=False) \n",
        "                            \n",
        "#KNeighborsClassifier',\n",
        "best_model_list[1] = KNeighborsClassifier(algorithm='auto', \n",
        "                                          leaf_size=30, \n",
        "                                          metric='minkowski',\n",
        "                                          metric_params=None, \n",
        "                                          n_jobs=-1, \n",
        "                                          n_neighbors=1, \n",
        "                                          p=2,\n",
        "                                          weights='uniform') \n",
        "#SupportVectorClassifier',\n",
        "best_model_list[2] = SVC(C=2, \n",
        "                         break_ties=False, \n",
        "                         cache_size=200, \n",
        "                         class_weight=None, \n",
        "                         coef0=0.0,\n",
        "                         decision_function_shape='ovo', \n",
        "                         degree=3, \n",
        "                         gamma='scale', \n",
        "                         kernel='rbf',\n",
        "                         max_iter=-1, \n",
        "                         probability=True, \n",
        "                         random_state=None, \n",
        "                         shrinking=True, \n",
        "                         tol=0.001,\n",
        "                         verbose=False)"
      ],
      "execution_count": 67,
      "outputs": []
    },
    {
      "cell_type": "code",
      "metadata": {
        "id": "OzenSN_tPvpv"
      },
      "source": [
        "# Experiment\n",
        "\n",
        "digits = load_digits()\n",
        "X_train, X_test, y_train, y_test = train_test_split(digits.data, digits.target, shuffle=True)\n",
        "\n",
        "scaler = MinMaxScaler()\n",
        "X_train = scaler.fit_transform(X_train)\n",
        "X_test = scaler.transform(X_test)\n",
        "\n",
        "log_accuracy = open('/content/drive/MyDrive/RecPad/Logs/accuracy.csv','a')\n",
        "log_time = open('/content/drive/MyDrive/RecPad/Logs/time.csv','a')\n",
        "\n",
        "\n",
        "# Unique estimators\n",
        "for x in range(len(best_model_list)):\n",
        "  model = best_model_list[x]\n",
        "  t0 = time()\n",
        "  model.fit(X_train,y_train)\n",
        "  t1 = (time() - t0)\n",
        "  y_pred = model.predict(X_test)\n",
        "  accuracy = accuracy_score(y_test, y_pred) * 100\n",
        "  log_accuracy.write('{:.2f},'.format(accuracy))\n",
        "  log_time.write('{:.2f},'.format(t1))\n",
        "\n",
        "\n",
        "# Votting Hard\n",
        "vot_clf = VotingClassifier(estimators=[('mlp', best_model_list[0]),\n",
        "                                       ('knn', best_model_list[1]),\n",
        "                                       ('svm', best_model_list[2])\n",
        "                                       ], \n",
        "                           voting='hard',n_jobs=-1)\n",
        "t0 = time()\n",
        "vot_clf.fit(X_train,y_train)\n",
        "t1 = (time() - t0)\n",
        "y_pred = vot_clf.predict(X_test)\n",
        "accuracy = accuracy_score(y_test, y_pred) * 100\n",
        "log_accuracy.write('{:.2f},'.format(accuracy))\n",
        "log_time.write('{:.2f},'.format(t1))\n",
        "\n",
        "# Votting Soft\n",
        "vot_clf = VotingClassifier(estimators=[('mlp', best_model_list[0]),\n",
        "                                       ('knn', best_model_list[1]),\n",
        "                                       ('svm', best_model_list[2])\n",
        "                                       ], \n",
        "                           voting='soft',n_jobs=-1)\n",
        "t0 = time()\n",
        "vot_clf.fit(X_train,y_train)\n",
        "t1 = (time() - t0)\n",
        "y_pred = vot_clf.predict(X_test)\n",
        "accuracy = accuracy_score(y_test, y_pred) * 100\n",
        "log_accuracy.write('{:.2f},'.format(accuracy))\n",
        "log_time.write('{:.2f},'.format(t1))\n",
        "\n",
        "# Stacking\n",
        "for x in range(len(best_model_list)):\n",
        "  for y in range(len(best_model_list)):\n",
        "    if x!=y:\n",
        "      estimators = [(names[x],best_model_list[x])]\n",
        "      stacking = StackingClassifier(estimators=estimators,final_estimator=best_model_list[y])\n",
        "      t0 = time()\n",
        "      stacking.fit(X_train, y_train)\n",
        "      t1 = (time() - t0)\n",
        "      y_pred = stacking.predict(X_test)\n",
        "      accuracy = accuracy_score(y_test, y_pred) * 100\n",
        "      log_accuracy.write('{:.2f},'.format(accuracy))\n",
        "      log_time.write('{:.2f},'.format(t1))\n",
        "\n",
        "log_accuracy.write('\\n')\n",
        "log_time.write('\\n')\n",
        "\n",
        "log_accuracy.close()\n",
        "log_time.close()  "
      ],
      "execution_count": 88,
      "outputs": []
    },
    {
      "cell_type": "code",
      "metadata": {
        "colab": {
          "base_uri": "https://localhost:8080/"
        },
        "id": "xUqjTDTerRBq",
        "outputId": "ef617832-b907-43e2-ab84-67d4014a20fb"
      },
      "source": [
        "pd.read_csv('/content/drive/MyDrive/RecPad/Logs/accuracy.csv').shape"
      ],
      "execution_count": 89,
      "outputs": [
        {
          "output_type": "execute_result",
          "data": {
            "text/plain": [
              "(30, 12)"
            ]
          },
          "metadata": {},
          "execution_count": 89
        }
      ]
    },
    {
      "cell_type": "code",
      "metadata": {
        "colab": {
          "base_uri": "https://localhost:8080/"
        },
        "id": "u3YSjmUkkUAt",
        "outputId": "3e57f1f8-6a3a-4c76-bc3b-fe7fabd8f83c"
      },
      "source": [
        "log_accuracy = '/content/drive/MyDrive/RecPad/Logs/accuracy.csv'\n",
        "log_time = '/content/drive/MyDrive/RecPad/Logs/time.csv'\n",
        "\n",
        "accuracy = pd.read_csv(log_accuracy)\n",
        "time = pd.read_csv(log_time)\n",
        "\n",
        "print(accuracy.mean(),'\\n\\n',time.mean())"
      ],
      "execution_count": 90,
      "outputs": [
        {
          "output_type": "stream",
          "name": "stdout",
          "text": [
            "MLPClassifier                                  96.874000\n",
            "KNeighborsClassifier                           98.726000\n",
            "SupportVectorClassifier                        98.926000\n",
            "VottingHard                                    98.888667\n",
            "VottingSoft                                    98.962333\n",
            "MLPClassifierKNeighborsClassifier              95.525000\n",
            "MLPClassifierSupportVectorClassifier           96.948000\n",
            "KNeighborsClassifierMLPClassifier              98.726000\n",
            "KNeighborsClassifierSupportVectorClassifier    98.726000\n",
            "SupportVectorClassifierMLPClassifier           98.370667\n",
            "SupportVectorClassifierKNeighborsClassifier    98.666333\n",
            "Unnamed: 11                                          NaN\n",
            "dtype: float64 \n",
            "\n",
            " MLPClassifier                                  0.426000\n",
            "KNeighborsClassifier                           0.010333\n",
            "SupportVectorClassifier                        0.456333\n",
            "VottingHard                                    0.656667\n",
            "VottingSoft                                    0.604333\n",
            "MLPClassifierKNeighborsClassifier              2.146667\n",
            "MLPClassifierSupportVectorClassifier           2.233667\n",
            "KNeighborsClassifierMLPClassifier              0.508000\n",
            "KNeighborsClassifierSupportVectorClassifier    0.317333\n",
            "SupportVectorClassifierMLPClassifier           3.685000\n",
            "SupportVectorClassifierKNeighborsClassifier    2.260667\n",
            "Unnamed: 11                                         NaN\n",
            "dtype: float64\n"
          ]
        }
      ]
    }
  ]
}