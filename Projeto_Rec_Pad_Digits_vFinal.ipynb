{
  "nbformat": 4,
  "nbformat_minor": 0,
  "metadata": {
    "colab": {
      "name": "Novo_Projeto_Rec_Pad_Digits_vFinal.ipynb",
      "provenance": [],
      "collapsed_sections": [],
      "mount_file_id": "12CDNn7WiQ0NnePAi5KKNixSyRVMjRxew",
      "authorship_tag": "ABX9TyM1IxCuVrwB5o5Zq/dkjXdK",
      "include_colab_link": true
    },
    "kernelspec": {
      "display_name": "Python 3",
      "name": "python3"
    },
    "language_info": {
      "name": "python"
    }
  },
  "cells": [
    {
      "cell_type": "markdown",
      "metadata": {
        "id": "view-in-github",
        "colab_type": "text"
      },
      "source": [
        "<a href=\"https://colab.research.google.com/github/teotavares2/RecPad/blob/main/Projeto_Rec_Pad_Digits_vFinal.ipynb\" target=\"_parent\"><img src=\"https://colab.research.google.com/assets/colab-badge.svg\" alt=\"Open In Colab\"/></a>"
      ]
    },
    {
      "cell_type": "markdown",
      "metadata": {
        "id": "sPynu0H4tNwB"
      },
      "source": [
        "# Digits vFinal"
      ]
    },
    {
      "cell_type": "code",
      "metadata": {
        "colab": {
          "base_uri": "https://localhost:8080/"
        },
        "id": "6WTeyXVxtNwC",
        "outputId": "d7fa97c2-bd58-4a5b-9f4e-947751863f9e"
      },
      "source": [
        "from sklearn.datasets import load_digits\n",
        "from sklearn.model_selection import train_test_split\n",
        "import matplotlib.pyplot as plt\n",
        "from sklearn.decomposition import PCA\n",
        "from sklearn.linear_model import LogisticRegression\n",
        "from sklearn.naive_bayes import GaussianNB\n",
        "from sklearn.model_selection import train_test_split\n",
        "from sklearn.neighbors import KNeighborsClassifier\n",
        "from sklearn.tree import DecisionTreeClassifier\n",
        "from sklearn.preprocessing import StandardScaler, MinMaxScaler\n",
        "from sklearn.pipeline import make_pipeline\n",
        "from sklearn.ensemble import StackingClassifier\n",
        "from sklearn import model_selection\n",
        "from sklearn.model_selection import GridSearchCV\n",
        "from sklearn.neural_network import MLPClassifier\n",
        "from sklearn.ensemble import RandomForestClassifier, VotingClassifier\n",
        "from sklearn.svm import SVC, LinearSVC\n",
        "from sklearn.metrics import f1_score,recall_score, precision_score, confusion_matrix, roc_curve, classification_report, accuracy_score\n",
        "from time import time,sleep\n",
        "from sklearn.linear_model import SGDClassifier\n",
        "from sklearn.decomposition import PCA\n",
        "import pandas as pd\n",
        "import numpy as np\n",
        "import os\n",
        "%matplotlib inline\n",
        "import _pickle as cPickle\n",
        "from tqdm import tqdm\n",
        "\n",
        "from google.colab import drive\n",
        "drive.mount('/content/drive', force_remount=True)\n",
        "\n",
        "import sys\n",
        "\n",
        "if not sys.warnoptions:\n",
        "    import warnings\n",
        "    warnings.simplefilter(\"ignore\")"
      ],
      "execution_count": null,
      "outputs": [
        {
          "output_type": "stream",
          "name": "stdout",
          "text": [
            "Mounted at /content/drive\n"
          ]
        }
      ]
    },
    {
      "cell_type": "code",
      "metadata": {
        "id": "FO8jEldNtNwE",
        "colab": {
          "base_uri": "https://localhost:8080/",
          "height": 252
        },
        "outputId": "8f480cfa-6ffd-46b3-b6f1-0ac860cd7dba"
      },
      "source": [
        "digits = load_digits()\n",
        "\n",
        "fig = plt.figure()\n",
        "for i in range(64):\n",
        "    ax = fig.add_subplot(8, 8, i + 1, xticks=[], yticks=[])\n",
        "    ax.imshow(digits.images[i], cmap=plt.cm.binary, interpolation='nearest')"
      ],
      "execution_count": null,
      "outputs": [
        {
          "output_type": "display_data",
          "data": {
            "image/png": "[encoded data removed]",
            "text/plain": [
              "<Figure size 432x288 with 64 Axes>"
            ]
          },
          "metadata": {}
        }
      ]
    },
    {
      "cell_type": "code",
      "metadata": {
        "id": "-Q9nsH1ktNwF",
        "colab": {
          "base_uri": "https://localhost:8080/"
        },
        "outputId": "0932927d-6508-45f2-d216-29a0e6144a32"
      },
      "source": [
        "print(digits.data.shape)"
      ],
      "execution_count": null,
      "outputs": [
        {
          "output_type": "stream",
          "name": "stdout",
          "text": [
            "(1797, 64)\n"
          ]
        }
      ]
    },
    {
      "cell_type": "code",
      "metadata": {
        "id": "KyY6V-IQtNwF",
        "colab": {
          "base_uri": "https://localhost:8080/"
        },
        "outputId": "3472b600-1d58-43e8-a6ac-8ca36e708d53"
      },
      "source": [
        "digits.data[0]"
      ],
      "execution_count": null,
      "outputs": [
        {
          "output_type": "execute_result",
          "data": {
            "text/plain": [
              "array([ 0.,  0.,  5., 13.,  9.,  1.,  0.,  0.,  0.,  0., 13., 15., 10.,\n",
              "       15.,  5.,  0.,  0.,  3., 15.,  2.,  0., 11.,  8.,  0.,  0.,  4.,\n",
              "       12.,  0.,  0.,  8.,  8.,  0.,  0.,  5.,  8.,  0.,  0.,  9.,  8.,\n",
              "        0.,  0.,  4., 11.,  0.,  1., 12.,  7.,  0.,  0.,  2., 14.,  5.,\n",
              "       10., 12.,  0.,  0.,  0.,  0.,  6., 13., 10.,  0.,  0.,  0.])"
            ]
          },
          "metadata": {},
          "execution_count": 56
        }
      ]
    },
    {
      "cell_type": "code",
      "metadata": {
        "id": "NZxqL1KLtNwF"
      },
      "source": [
        "X_train, X_test, y_train, y_test = train_test_split(digits.data, digits.target)"
      ],
      "execution_count": null,
      "outputs": []
    },
    {
      "cell_type": "code",
      "metadata": {
        "id": "RxkdxF-dtNwG"
      },
      "source": [
        "scaler = MinMaxScaler()\n",
        "X_train = scaler.fit_transform(X_train)\n",
        "X_test = scaler.transform(X_test)"
      ],
      "execution_count": null,
      "outputs": []
    },
    {
      "cell_type": "code",
      "metadata": {
        "id": "X0-VHd0k4fqT"
      },
      "source": [
        "model_lrc = LogisticRegression()\n",
        "model_dtc = DecisionTreeClassifier(max_depth = 2)\n",
        "model_svc = SVC(probability=True)\n",
        "model_knn = KNeighborsClassifier(n_neighbors = 2)\n",
        "model_gnb = GaussianNB()\n",
        "model_mlp = MLPClassifier()\n",
        "model_rfc = RandomForestClassifier(n_estimators=10, random_state=42)\n",
        "\n",
        "models =[model_lrc, \n",
        "         model_dtc, \n",
        "         model_svc, \n",
        "         model_knn, \n",
        "         model_gnb,\n",
        "         model_mlp,\n",
        "         model_rfc,\n",
        "        ]          \n",
        "classifier = ['LogisticRegression',\n",
        "              'DecisionTreeClassifier',\n",
        "              'SupportVectorClassifier',\n",
        "              'KNeighborsClassifier',\n",
        "              'GaussianNB',\n",
        "              'MLPClassifier',\n",
        "              'RandomForestClassifier',\n",
        "              ]"
      ],
      "execution_count": null,
      "outputs": []
    },
    {
      "cell_type": "code",
      "metadata": {
        "id": "H2ojBldTRJlf",
        "colab": {
          "base_uri": "https://localhost:8080/"
        },
        "outputId": "b74d1da6-e87f-484f-d06a-70faae5bc69d"
      },
      "source": [
        "# Unique Classifier without PCA\n",
        "log_file = open('/content/drive/MyDrive/RecPad/Logs/digits.log','a') \n",
        "\n",
        "for x in range(len(models)):\n",
        "  t0 = time()\n",
        "  model = models[x].fit(X_train, y_train)\n",
        "  t1 = (time() - t0)\n",
        "  y_pred = model.predict(X_test)\n",
        "  accuracy = accuracy_score(y_test, y_pred) * 100\n",
        "  print('{},{:.2f}%,{:.2f}s \\n'.format(classifier[x],accuracy,t1))\n",
        "  log_file.write('{},{:.2f},{:.2f} \\n'.format(classifier[x],accuracy,t1))\n",
        "log_file.close() "
      ],
      "execution_count": null,
      "outputs": [
        {
          "output_type": "stream",
          "name": "stderr",
          "text": [
            "/usr/local/lib/python3.7/dist-packages/sklearn/linear_model/_logistic.py:940: ConvergenceWarning: lbfgs failed to converge (status=1):\n",
            "STOP: TOTAL NO. of ITERATIONS REACHED LIMIT.\n",
            "\n",
            "Increase the number of iterations (max_iter) or scale the data as shown in:\n",
            "    https://scikit-learn.org/stable/modules/preprocessing.html\n",
            "Please also refer to the documentation for alternative solver options:\n",
            "    https://scikit-learn.org/stable/modules/linear_model.html#logistic-regression\n",
            "  extra_warning_msg=_LOGISTIC_SOLVER_CONVERGENCE_MSG)\n"
          ]
        },
        {
          "output_type": "stream",
          "name": "stdout",
          "text": [
            "LogisticRegression,96.44%,0.40s \n",
            "\n",
            "DecisionTreeClassifier,31.33%,0.01s \n",
            "\n",
            "SupportVectorClassifier,98.22%,0.54s \n",
            "\n",
            "KNeighborsClassifier,99.33%,0.01s \n",
            "\n",
            "GaussianNB,84.44%,0.00s \n",
            "\n",
            "MLPClassifier,96.89%,2.47s \n",
            "\n",
            "RandomForestClassifier,93.78%,0.06s \n",
            "\n"
          ]
        },
        {
          "output_type": "stream",
          "name": "stderr",
          "text": [
            "/usr/local/lib/python3.7/dist-packages/sklearn/neural_network/_multilayer_perceptron.py:571: ConvergenceWarning: Stochastic Optimizer: Maximum iterations (200) reached and the optimization hasn't converged yet.\n",
            "  % self.max_iter, ConvergenceWarning)\n"
          ]
        }
      ]
    },
    {
      "cell_type": "code",
      "metadata": {
        "colab": {
          "base_uri": "https://localhost:8080/"
        },
        "id": "_jO52RT58DkY",
        "outputId": "6049e272-8cce-49b7-a6ba-877e221a546f"
      },
      "source": [
        "# Unique Classifier with PCA\n",
        "log_file = open('/content/drive/MyDrive/RecPad/Logs/digits.log','a') \n",
        "\n",
        "pca = PCA(.80)\n",
        "pca.fit(X_train)\n",
        "X_train_pca = pca.transform(X_train)\n",
        "X_test_pca = pca.transform(X_test)\n",
        "\n",
        "for x in range(len(models)):\n",
        "  t0 = time()\n",
        "  model = models[x].fit(X_train_pca, y_train)\n",
        "  t1 = (time() - t0)\n",
        "  y_pred = model.predict(X_test_pca)\n",
        "  accuracy = accuracy_score(y_test, y_pred) * 100\n",
        "  print('{}PCA,{:.2f}%,{:.2f}s \\n'.format(classifier[x],accuracy,t1))\n",
        "  log_file.write('{}PCA,{:.2f},{:.2f} \\n'.format(classifier[x],accuracy,t1))\n",
        "log_file.close()  "
      ],
      "execution_count": null,
      "outputs": [
        {
          "output_type": "stream",
          "name": "stdout",
          "text": [
            "LogisticRegressionPCA,93.56%,0.09s \n",
            "\n",
            "DecisionTreeClassifierPCA,27.56%,0.01s \n",
            "\n",
            "SupportVectorClassifierPCA,98.44%,0.21s \n",
            "\n",
            "KNeighborsClassifierPCA,98.22%,0.00s \n",
            "\n",
            "GaussianNBPCA,92.22%,0.00s \n",
            "\n",
            "MLPClassifierPCA,96.89%,2.16s \n",
            "\n",
            "RandomForestClassifierPCA,93.33%,0.08s \n",
            "\n"
          ]
        },
        {
          "output_type": "stream",
          "name": "stderr",
          "text": [
            "/usr/local/lib/python3.7/dist-packages/sklearn/neural_network/_multilayer_perceptron.py:571: ConvergenceWarning: Stochastic Optimizer: Maximum iterations (200) reached and the optimization hasn't converged yet.\n",
            "  % self.max_iter, ConvergenceWarning)\n"
          ]
        }
      ]
    },
    {
      "cell_type": "code",
      "metadata": {
        "id": "Q3ODAKzj9Q43"
      },
      "source": [
        "# PCA\n",
        "# pca = PCA(.80)\n",
        "# pca.fit(X_train)\n",
        "# X_train = pca.transform(X_train)\n",
        "# X_test = pca.transform(X_test)"
      ],
      "execution_count": null,
      "outputs": []
    },
    {
      "cell_type": "code",
      "metadata": {
        "id": "4O26VOT4wRjt"
      },
      "source": [
        "# Classifiers\n",
        "#model.get_params().keys()\n",
        "\n",
        "classifiers =[]\n",
        "mlp = MLPClassifier(random_state=123, verbose=1, batch_size=64, max_iter=400,early_stopping = True)\n",
        "classifiers.append(mlp)\n",
        "\n",
        "knn = KNeighborsClassifier(n_jobs=-1, algorithm='auto')\n",
        "classifiers.append(knn)\n",
        "\n",
        "svm = SVC(probability=True)\n",
        "classifiers.append(svm)\n",
        "\n",
        "# Classifiers Parameters\n",
        "parameters=[]\n",
        "parameters_mlp = {'activation': ['identity','logistic','tanh','relu'], \n",
        "                  'solver':['lbfgs','sgd','adam'], \n",
        "                 'learning_rate':['constant','invscaling','adaptive'],}\n",
        "parameters.append(parameters_mlp)\n",
        "parameters_knn = {\"n_neighbors\": [2,4,8,16,32],\n",
        "                 \"weights\": ['uniform','distance'],\n",
        "                 \"p\":[1,2,3]}\n",
        "parameters.append(parameters_knn)\n",
        "parameters_svm = {\"kernel\": ['linear', 'poly', 'rbf', 'sigmoid'],\n",
        "                 'decision_function_shape':('ovo', 'ovr'),\n",
        "                 'C':[1, 10]\n",
        "                 }\n",
        "parameters.append(parameters_svm)\n",
        "\n",
        "# Classifiers Names\n",
        "names = ['MLPClassifier',\n",
        "        'KNeighborsClassifier',\n",
        "        'SupportVectorClassifier',\n",
        "        ]"
      ],
      "execution_count": null,
      "outputs": []
    },
    {
      "cell_type": "code",
      "metadata": {
        "id": "NJE3yvDmwuHW",
        "colab": {
          "base_uri": "https://localhost:8080/"
        },
        "outputId": "0e36b2f4-67a9-4c20-8b72-b7c067dc7389"
      },
      "source": [
        "# Best Classifiers with GridSearchCV\n",
        "\n",
        "def gridSearchCV(models,params,count):\n",
        "    best_models=[]\n",
        "    for i in tqdm(range(0,count)):\n",
        "        model_grid = GridSearchCV(models[i], parameters[i], n_jobs=-1, verbose=1, cv=5)\n",
        "        model_grid.fit(X_train,y_train)\n",
        "        best_models.append(model_grid.best_estimator_)\n",
        "    return best_models\n",
        "\n",
        "best_model_list = gridSearchCV(classifiers,parameters,3)\n",
        "\n",
        "log_file = open('/content/drive/MyDrive/RecPad/Logs/digits_best_estimators.log','a') \n",
        "log_file.write(\"\\nThe best estimators are:\\n\")\n",
        "for i in range(len(classifiers)):\n",
        "  log_file.write(\"\\n\")\n",
        "  log_file.write(str(best_model_list[i]))\n",
        "log_file.close() "
      ],
      "execution_count": null,
      "outputs": [
        {
          "output_type": "stream",
          "name": "stderr",
          "text": [
            "\r  0%|          | 0/3 [00:00<?, ?it/s]"
          ]
        },
        {
          "output_type": "stream",
          "name": "stdout",
          "text": [
            "Fitting 5 folds for each of 36 candidates, totalling 180 fits\n"
          ]
        },
        {
          "output_type": "stream",
          "name": "stderr",
          "text": [
            "[Parallel(n_jobs=-1)]: Using backend LokyBackend with 2 concurrent workers.\n",
            "[Parallel(n_jobs=-1)]: Done  46 tasks      | elapsed:   12.3s\n",
            "[Parallel(n_jobs=-1)]: Done 180 out of 180 | elapsed:  1.1min finished\n",
            " 33%|███▎      | 1/3 [01:04<02:08, 64.25s/it][Parallel(n_jobs=-1)]: Using backend LokyBackend with 2 concurrent workers.\n"
          ]
        },
        {
          "output_type": "stream",
          "name": "stdout",
          "text": [
            "Fitting 5 folds for each of 30 candidates, totalling 150 fits\n"
          ]
        },
        {
          "output_type": "stream",
          "name": "stderr",
          "text": [
            "[Parallel(n_jobs=-1)]: Done  60 tasks      | elapsed:   16.4s\n",
            "[Parallel(n_jobs=-1)]: Done 150 out of 150 | elapsed:   42.8s finished\n",
            " 67%|██████▋   | 2/3 [01:47<00:51, 51.67s/it][Parallel(n_jobs=-1)]: Using backend LokyBackend with 2 concurrent workers.\n"
          ]
        },
        {
          "output_type": "stream",
          "name": "stdout",
          "text": [
            "Fitting 5 folds for each of 16 candidates, totalling 80 fits\n"
          ]
        },
        {
          "output_type": "stream",
          "name": "stderr",
          "text": [
            "[Parallel(n_jobs=-1)]: Done  46 tasks      | elapsed:   10.5s\n",
            "[Parallel(n_jobs=-1)]: Done  80 out of  80 | elapsed:   16.7s finished\n",
            "100%|██████████| 3/3 [02:04<00:00, 41.37s/it]\n"
          ]
        }
      ]
    },
    {
      "cell_type": "code",
      "metadata": {
        "id": "fZhlwzuqYns1",
        "colab": {
          "base_uri": "https://localhost:8080/"
        },
        "outputId": "57ec353c-d977-4f0d-9bec-7091e67c90b2"
      },
      "source": [
        "# Classifiers with GridSearchCV\n",
        "\n",
        "df = pd.DataFrame()\n",
        "best_models=[]\n",
        "path='/content/drive/MyDrive/RecPad/Models/'\n",
        "log_file = open('/content/drive/MyDrive/RecPad/Logs/digits.log','a') \n",
        " \n",
        "for x in range(len(best_model_list)):\n",
        "  model = best_model_list[x]\n",
        "  t0 = time()\n",
        "  model.fit(X_train,y_train)\n",
        "  t1 = (time() - t0)\n",
        "  name=path+names[x]+'.pkl'\n",
        "  with open(name, 'wb') as clf:\n",
        "\t  cPickle.dump(model, clf)\n",
        "  y_pred = model.predict(X_test)\n",
        "  accuracy = accuracy_score(y_test, y_pred) * 100\n",
        "  print('{},{:.2f}%,{:.2f}s \\n'.format(names[x],accuracy,t1))\n",
        "  log_file.write('{},{:.2f},{:.2f} \\n'.format(names[x],accuracy,t1))\n",
        "log_file.close()   "
      ],
      "execution_count": null,
      "outputs": [
        {
          "output_type": "stream",
          "name": "stdout",
          "text": [
            "MLPClassifier,96.67%,0.46s \n",
            "\n",
            "KNeighborsClassifier,99.11%,0.01s \n",
            "\n",
            "SupportVectorClassifier,98.44%,0.27s \n",
            "\n"
          ]
        }
      ]
    },
    {
      "cell_type": "code",
      "metadata": {
        "id": "3wc90qpgZZwX",
        "colab": {
          "base_uri": "https://localhost:8080/"
        },
        "outputId": "edce0b7a-04ee-4bcf-9b4c-b887372d6e86"
      },
      "source": [
        "# Votting Classifier Soft\n",
        "log_file = open('/content/drive/MyDrive/RecPad/Logs/digits.log','a') \n",
        "path='/content/drive/MyDrive/RecPad/Models/'\n",
        "name=''\n",
        "\n",
        "vot_clf = VotingClassifier(estimators=[('mlp', best_model_list[0]), \n",
        "                                       ('knn', best_model_list[1]),\n",
        "                                       ('svm', best_model_list[2])\n",
        "                                       ], \n",
        "                           voting='soft',n_jobs=-1)\n",
        "t0 = time()\n",
        "vot_clf.fit(X_train,y_train)\n",
        "t1 = (time() - t0)\n",
        "print(vot_clf.estimators_)\n",
        "y_predict = vot_clf.predict(X_test)\n",
        "name=path+'VottingSoft.pkl'\n",
        "with open(name, 'wb') as clf:\n",
        "\tcPickle.dump(vot_clf, clf) \n",
        "accuracy = accuracy_score(y_test, y_predict) * 100\n",
        "print('VottingSoft,{:.2f}%,{:.2f}s \\n'.format(accuracy,t1))\n",
        "log_file.write('VottingSoft,{:.2f},{:.2f} \\n'.format(accuracy,t1))\n",
        "log_file.close() "
      ],
      "execution_count": null,
      "outputs": [
        {
          "output_type": "stream",
          "name": "stdout",
          "text": [
            "[MLPClassifier(activation='tanh', alpha=0.0001, batch_size=64, beta_1=0.9,\n",
            "              beta_2=0.999, early_stopping=True, epsilon=1e-08,\n",
            "              hidden_layer_sizes=(100,), learning_rate='constant',\n",
            "              learning_rate_init=0.001, max_fun=15000, max_iter=400,\n",
            "              momentum=0.9, n_iter_no_change=10, nesterovs_momentum=True,\n",
            "              power_t=0.5, random_state=123, shuffle=True, solver='lbfgs',\n",
            "              tol=0.0001, validation_fraction=0.1, verbose=1, warm_start=False), KNeighborsClassifier(algorithm='auto', leaf_size=30, metric='minkowski',\n",
            "                     metric_params=None, n_jobs=-1, n_neighbors=2, p=3,\n",
            "                     weights='distance'), SVC(C=1, break_ties=False, cache_size=200, class_weight=None, coef0=0.0,\n",
            "    decision_function_shape='ovo', degree=3, gamma='scale', kernel='poly',\n",
            "    max_iter=-1, probability=True, random_state=None, shrinking=True, tol=0.001,\n",
            "    verbose=False)]\n",
            "VottingSoft,98.22%,0.51s \n",
            "\n"
          ]
        }
      ]
    },
    {
      "cell_type": "code",
      "metadata": {
        "colab": {
          "base_uri": "https://localhost:8080/"
        },
        "id": "B6OFDXrlD-r8",
        "outputId": "def8131b-62d2-417a-d268-8b71ff7375fa"
      },
      "source": [
        "# Votting Classifier Hard\n",
        "log_file = open('/content/drive/MyDrive/RecPad/Logs/digits.log','a') \n",
        "path='/content/drive/MyDrive/RecPad/Models/'\n",
        "name=''\n",
        "\n",
        "vot_clf = VotingClassifier(estimators=[('mlp', best_model_list[0]), \n",
        "                                       ('knn', best_model_list[1]),\n",
        "                                       ('svm', best_model_list[2])\n",
        "                                       ], \n",
        "                           voting='hard',n_jobs=-1)\n",
        "vot_clf.fit(X_train,y_train)\n",
        "print(vot_clf.estimators_)\n",
        "y_predict = vot_clf.predict(X_test)\n",
        "name=path+'VottingHard.pkl'\n",
        "with open(name, 'wb') as clf:\n",
        "\tcPickle.dump(vot_clf, clf) \n",
        "accuracy = accuracy_score(y_test, y_predict) * 100\n",
        "print('VottingHard,{:.2f}%,{:.2f}s \\n'.format(accuracy,t1))\n",
        "log_file.write('VottingHard,{:.2f},{:.2f} \\n'.format(accuracy,t1))\n",
        "log_file.close() "
      ],
      "execution_count": null,
      "outputs": [
        {
          "output_type": "stream",
          "name": "stdout",
          "text": [
            "[MLPClassifier(activation='tanh', alpha=0.0001, batch_size=64, beta_1=0.9,\n",
            "              beta_2=0.999, early_stopping=True, epsilon=1e-08,\n",
            "              hidden_layer_sizes=(100,), learning_rate='constant',\n",
            "              learning_rate_init=0.001, max_fun=15000, max_iter=400,\n",
            "              momentum=0.9, n_iter_no_change=10, nesterovs_momentum=True,\n",
            "              power_t=0.5, random_state=123, shuffle=True, solver='lbfgs',\n",
            "              tol=0.0001, validation_fraction=0.1, verbose=1, warm_start=False), KNeighborsClassifier(algorithm='auto', leaf_size=30, metric='minkowski',\n",
            "                     metric_params=None, n_jobs=-1, n_neighbors=2, p=3,\n",
            "                     weights='distance'), SVC(C=1, break_ties=False, cache_size=200, class_weight=None, coef0=0.0,\n",
            "    decision_function_shape='ovo', degree=3, gamma='scale', kernel='poly',\n",
            "    max_iter=-1, probability=True, random_state=None, shrinking=True, tol=0.001,\n",
            "    verbose=False)]\n",
            "VottingHard,98.44%,0.51s \n",
            "\n"
          ]
        }
      ]
    },
    {
      "cell_type": "code",
      "metadata": {
        "id": "EqRepVs-w2fx",
        "colab": {
          "base_uri": "https://localhost:8080/"
        },
        "outputId": "7c1af9bb-32ac-434b-d3c1-f008453452c9"
      },
      "source": [
        "# Stacking Classifiers without GridSearchCV\n",
        "log_file = open('/content/drive/MyDrive/RecPad/Logs/digits.log','a') \n",
        "path='/content/drive/MyDrive/RecPad/Models/'\n",
        "\n",
        "for x in range(len(best_model_list)):\n",
        "  for y in range(len(best_model_list)):\n",
        "    if x != y:\n",
        "      estimators = [(names[x],best_model_list[x])]\n",
        "      stacking = StackingClassifier(estimators=estimators,final_estimator=best_model_list[y])\n",
        "      t0 = time()\n",
        "      stacking.fit(X_train, y_train)\n",
        "      t1 = (time() - t0)\n",
        "      y_pred_stacking = stacking.predict(X_test)\n",
        "      name=path+names[x]+names[y]+'Stacking.pkl'\n",
        "      with open(name, 'wb') as clf:\n",
        "        cPickle.dump(stacking, clf) \n",
        "      accuracy = accuracy_score(y_test, y_pred_stacking) * 100\n",
        "      print('Stacking{}{},{:.2f}%,{:.2f}s\\n'.format(names[x],names[y],accuracy,t1))\n",
        "      log_file.write('Stacking{}{},{:.2f},{:.2f}\\n'.format(names[x],names[y],accuracy,t1))\n",
        "log_file.close() "
      ],
      "execution_count": null,
      "outputs": [
        {
          "output_type": "stream",
          "name": "stdout",
          "text": [
            "StackingMLPClassifierKNeighborsClassifier,96.67%,2.24s\n",
            "\n",
            "StackingMLPClassifierSupportVectorClassifier,96.67%,2.34s\n",
            "\n",
            "StackingKNeighborsClassifierMLPClassifier,98.22%,5.20s\n",
            "\n",
            "StackingKNeighborsClassifierSupportVectorClassifier,98.00%,3.59s\n",
            "\n",
            "StackingSupportVectorClassifierMLPClassifier,97.56%,2.41s\n",
            "\n",
            "StackingSupportVectorClassifierKNeighborsClassifier,98.44%,1.35s\n",
            "\n"
          ]
        }
      ]
    },
    {
      "cell_type": "code",
      "metadata": {
        "id": "FtNeUCnvjAmq"
      },
      "source": [
        "# Final Avaliation \n",
        "\n",
        "pasta = '/content/drive/MyDrive/RecPad/Models/'\n",
        "best_classifiers = list()\n",
        "best_models = list()\n",
        "\n",
        "# Pegar os arquivos do diretórios com os modelos treinados e colocando na lista best_classifiers\n",
        "for diretorio, subpastas, arquivos in os.walk(pasta):\n",
        "    for arquivo in arquivos:\n",
        "        best_classifiers.append(os.path.join(diretorio, arquivo))\n",
        "        best_models.append(arquivo)\n",
        "\n",
        "# Pegar os arquivos do diretórios com os modelos treinados e colocando na lista models\n",
        "files = list()\n",
        "for model in best_models:\n",
        "  files.append(model[:-4])\n",
        "best_models = files\n",
        "\n",
        "for x in range(len(best_classifiers)):\n",
        "  for i in range(30):\n",
        "    name = '/content/drive/MyDrive/RecPad/Results/'+str(best_models[x])+'.csv'\n",
        "    log_file = open(name,'a') \n",
        "    logs = list()\n",
        "    with open(best_classifiers[x], 'rb') as classifier:\n",
        "      clf = cPickle.load(classifier)\n",
        "    t0 = time()\n",
        "    y_pred = clf.predict(X_test)\n",
        "    t1 = (time() - t0)\n",
        "    accuracy = accuracy_score(y_test, y_pred) * 100\n",
        "    log_file.write('{},{:.2f},{:.2f}\\n'.format(best_models[x],accuracy,t1))\n",
        "    log_file.close() \n"
      ],
      "execution_count": null,
      "outputs": []
    },
    {
      "cell_type": "code",
      "metadata": {
        "colab": {
          "base_uri": "https://localhost:8080/"
        },
        "id": "hFQFsECT5cRo",
        "outputId": "f03895db-8914-4ab1-c6fe-7f173295996b"
      },
      "source": [
        "pasta = '/content/drive/MyDrive/RecPad/Results/'\n",
        "best_results = list()\n",
        "\n",
        "for diretorio, subpastas, arquivos in os.walk(pasta):\n",
        "    for arquivo in arquivos:\n",
        "        best_results.append(os.path.join(diretorio, arquivo))\n",
        "\n",
        "best_results"
      ],
      "execution_count": null,
      "outputs": [
        {
          "output_type": "execute_result",
          "data": {
            "text/plain": [
              "['/content/drive/MyDrive/RecPad/Results/MLPClassifier.csv',\n",
              " '/content/drive/MyDrive/RecPad/Results/KNeighborsClassifier.csv',\n",
              " '/content/drive/MyDrive/RecPad/Results/SupportVectorClassifier.csv',\n",
              " '/content/drive/MyDrive/RecPad/Results/VottingSoft.csv',\n",
              " '/content/drive/MyDrive/RecPad/Results/VottingHard.csv',\n",
              " '/content/drive/MyDrive/RecPad/Results/MLPClassifierKNeighborsClassifierStacking.csv',\n",
              " '/content/drive/MyDrive/RecPad/Results/MLPClassifierSupportVectorClassifierStacking.csv',\n",
              " '/content/drive/MyDrive/RecPad/Results/KNeighborsClassifierMLPClassifierStacking.csv',\n",
              " '/content/drive/MyDrive/RecPad/Results/KNeighborsClassifierSupportVectorClassifierStacking.csv',\n",
              " '/content/drive/MyDrive/RecPad/Results/SupportVectorClassifierMLPClassifierStacking.csv',\n",
              " '/content/drive/MyDrive/RecPad/Results/SupportVectorClassifierKNeighborsClassifierStacking.csv']"
            ]
          },
          "metadata": {},
          "execution_count": 70
        }
      ]
    },
    {
      "cell_type": "code",
      "metadata": {
        "colab": {
          "base_uri": "https://localhost:8080/"
        },
        "id": "s5Py-Ioc4SfB",
        "outputId": "db637765-c548-44fc-f97f-0fd512f15b36"
      },
      "source": [
        "log_file = open('/content/drive/MyDrive/RecPad/digits_results.log','a') \n",
        "\n",
        "for result in range(len(best_results)):\n",
        "  df = pd.read_csv(best_results[result])\n",
        "  df.columns=['Model', 'Accuracy','Time']\n",
        "  # print(df.head(5))\n",
        "  print('{},{:.2f},{:.2f}\\n'.format(df.iloc[0,0],df['Accuracy'].mean(),df['Time'].mean()))\n",
        "  log_file.write('{},{:.2f},{:.2f}\\n'.format(df.iloc[0,0],df['Accuracy'].mean(),df['Time'].mean()))\n",
        "\n",
        "log_file.close() "
      ],
      "execution_count": null,
      "outputs": [
        {
          "output_type": "stream",
          "name": "stdout",
          "text": [
            "MLPClassifier,96.67,0.00\n",
            "\n",
            "KNeighborsClassifier,99.11,1.41\n",
            "\n",
            "SupportVectorClassifier,98.44,0.02\n",
            "\n",
            "VottingSoft,98.22,1.46\n",
            "\n",
            "VottingHard,98.44,1.46\n",
            "\n",
            "MLPClassifierKNeighborsClassifierStacking,96.67,0.17\n",
            "\n",
            "MLPClassifierSupportVectorClassifierStacking,96.67,0.01\n",
            "\n",
            "KNeighborsClassifierMLPClassifierStacking,98.22,1.44\n",
            "\n",
            "KNeighborsClassifierSupportVectorClassifierStacking,98.00,1.41\n",
            "\n",
            "SupportVectorClassifierMLPClassifierStacking,97.56,0.03\n",
            "\n",
            "SupportVectorClassifierKNeighborsClassifierStacking,98.44,0.12\n",
            "\n"
          ]
        }
      ]
    }
  ]
}